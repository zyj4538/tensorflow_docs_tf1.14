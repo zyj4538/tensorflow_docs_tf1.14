{
  "cells": [
    {
      "cell_type": "markdown",
      "metadata": {
        "colab_type": "text",
        "id": "eIrvnAbGZ1wP"
      },
      "source": [
        "##### Copyright 2019 The TensorFlow Authors."
      ]
    },
    {
      "cell_type": "code",
      "execution_count": 0,
      "metadata": {
        "cellView": "form",
        "colab": {},
        "colab_type": "code",
        "id": "_A4IPZ-WZ9H7"
      },
      "outputs": [],
      "source": [
        "#@title Licensed under the Apache License, Version 2.0 (the \"License\");\n",
        "# you may not use this file except in compliance with the License.\n",
        "# You may obtain a copy of the License at\n",
        "#\n",
        "# https://www.apache.org/licenses/LICENSE-2.0\n",
        "#\n",
        "# Unless required by applicable law or agreed to in writing, software\n",
        "# distributed under the License is distributed on an \"AS IS\" BASIS,\n",
        "# WITHOUT WARRANTIES OR CONDITIONS OF ANY KIND, either express or implied.\n",
        "# See the License for the specific language governing permissions and\n",
        "# limitations under the License."
      ]
    },
    {
      "cell_type": "markdown",
      "metadata": {
        "colab_type": "text",
        "id": "zfiHTzhkmNwd"
      },
      "source": [
        "# Keras RNN API\n",
        "\n",
        "\u003ctable class=\"tfo-notebook-buttons\" align=\"left\"\u003e\n",
        "  \u003ctd\u003e\n",
        "    \u003ca target=\"_blank\" href=\"https://www.tensorflow.org/beta/guide/keras/rnn\"\u003e\n",
        "    \u003cimg src=\"https://www.tensorflow.org/images/tf_logo_32px.png\" /\u003e\n",
        "    View on TensorFlow.org\u003c/a\u003e\n",
        "  \u003c/td\u003e\n",
        "  \u003ctd\u003e\n",
        "    \u003ca target=\"_blank\" href=\"https://colab.research.google.com/github/tensorflow/docs/blob/master/site/en/r2/guide/keras/rnn.ipynb\"\u003e\n",
        "    \u003cimg src=\"https://www.tensorflow.org/images/colab_logo_32px.png\" /\u003e\n",
        "    Run in Google Colab\u003c/a\u003e\n",
        "  \u003c/td\u003e\n",
        "  \u003ctd\u003e\n",
        "    \u003ca target=\"_blank\" href=\"https://github.com/tensorflow/docs/blob/master/site/en/r2/guide/keras/rnn.ipynb\"\u003e\n",
        "    \u003cimg src=\"https://www.tensorflow.org/images/GitHub-Mark-32px.png\" /\u003e\n",
        "    View source on GitHub\u003c/a\u003e\n",
        "  \u003c/td\u003e\n",
        "  \u003ctd\u003e\n",
        "    \u003ca target=\"_blank\" href=\"https://storage.googleapis.com/tensorflow_docs/docs/site/en/r2/guide/keras/rnn.ipynb\"\u003e\n",
        "    \u003cimg src=\"https://www.tensorflow.org/images/download_logo_32px.png\" /\u003e\n",
        "    Download notebook\u003c/a\u003e\n",
        "  \u003c/td\u003e\n",
        "\u003c/table\u003e\n"
      ]
    },
    {
      "cell_type": "markdown",
      "metadata": {
        "colab_type": "text",
        "id": "jfOdaQLhXLDR"
      },
      "source": [
        "Recurrent neural network (RNN) is a class of neural network that is very powerful for solving problem with sequential data input. Unlike the feedforward network, an RNN maintains an internal state which is updated at each time-step. allowing it to explore the temporal feature of the input.\n",
        "\n",
        "In Keras, RNN API is designed with the focus of:\n",
        "\n",
        "- *Easy to use*\u003cbr\u003e\n",
        "  Builtin `tf.keras.layer.RNN`/`tf.keras.layers.LSTM`/`tf.keras.layers.GRU` layers allow you to quickly build the model by stacking them with Keras `sequential` model, or in `functional` model style.\n",
        "- *Easy to extend*\u003cbr\u003e\n",
        "  You could also define your own `tf.keras.layers.AbstractRNNCell` with custom behavior, and use it with RNN layer. This allows you to quickly prototype different research ideas with minimal amount of code.\n",
        "\n",
        "\n",
        "  "
      ]
    },
    {
      "cell_type": "markdown",
      "metadata": {
        "colab_type": "text",
        "id": "QGJH5EKYoSHZ"
      },
      "source": [
        "## Setup"
      ]
    },
    {
      "cell_type": "code",
      "execution_count": 0,
      "metadata": {
        "colab": {},
        "colab_type": "code",
        "id": "wJEBe8hTlB6W"
      },
      "outputs": [],
      "source": [
        "from __future__ import absolute_import, division, print_function, unicode_literals\n",
        "\n",
        "import collections\n",
        "import matplotlib.pyplot as plt\n",
        "import numpy as np\n",
        "\n",
        "!pip install tensorflow-gpu==2.0.0-beta1\n",
        "import tensorflow as tf\n",
        "\n",
        "from tensorflow.keras import layers"
      ]
    },
    {
      "cell_type": "markdown",
      "metadata": {
        "colab_type": "text",
        "id": "DznzjxWCilt4"
      },
      "source": [
        "## Build a simple model\n"
      ]
    },
    {
      "cell_type": "markdown",
      "metadata": {
        "colab_type": "text",
        "id": "H5tPG7KJirBj"
      },
      "source": [
        "There are three builtin RNN layers:\n",
        "\n",
        "1. `tf.keras.layers.SimpleRNN`, fully-connected RNN where the output from previous timestep is to be fed to next timestep.\n",
        "\n",
        "1. `tf.keras.layers.GRU`, gated recurrent unit that is first proposed in [https://arxiv.org/abs/1406.1078]\n",
        "\n",
        "1. `tf.keras.layers.LSTM`, Long Short-Term Memory layer that is first proposed in [https://www.bioinf.jku.at/publications/older/2604.pdf].\n"
      ]
    },
    {
      "cell_type": "code",
      "execution_count": 0,
      "metadata": {
        "colab": {},
        "colab_type": "code",
        "id": "QHdAFEATnFpn"
      },
      "outputs": [],
      "source": [
        "model = tf.keras.Sequential()\n",
        "# Add an embedding layer which the expectation of input vocab to be 1000, and\n",
        "# output embedding domain to be 64.\n",
        "model.add(layers.Embedding(input_dim=1000, output_dim=64))\n",
        "\n",
        "# Add an LSTM layer with 128 intenral units.\n",
        "model.add(layers.LSTM(128))\n",
        "\n",
        "# Add an Dense layer with 10 units and softmax activation.\n",
        "model.add(layers.Dense(10, activation='softmax'))\n",
        "\n",
        "model.summary()"
      ]
    },
    {
      "cell_type": "markdown",
      "metadata": {
        "colab_type": "text",
        "id": "sVT4R7O3qDXM"
      },
      "source": [
        "## Output and states"
      ]
    },
    {
      "cell_type": "markdown",
      "metadata": {
        "colab_type": "text",
        "id": "IOQnPR9eqLwk"
      },
      "source": [
        "By default, the output of the RNN layer is the computation result for the last timestep. The shape of the output is usually `[batch, units]` where the units is the configured during the layer initialization. \n",
        "\n",
        "Instead of just returning the final timestep output, the layer could be configured to return the output for the whole sequence. To enable that, set the `return_sequences` parameter to `True` when creating the layer."
      ]
    },
    {
      "cell_type": "code",
      "execution_count": 0,
      "metadata": {
        "colab": {},
        "colab_type": "code",
        "id": "wNlkR8oXpNEx"
      },
      "outputs": [],
      "source": [
        "model = tf.keras.Sequential()\n",
        "model.add(layers.Embedding(input_dim=1000, output_dim=64))\n",
        "\n",
        "# The output shape for GRU will be a 3D tensor [batch, sequence, 64]\n",
        "model.add(layers.GRU(64, return_sequences=True))\n",
        "model.add(layers.SimpleRNN(128))\n",
        "model.add(layers.Dense(10, activation='softmax'))\n",
        "\n",
        "model.summary() "
      ]
    },
    {
      "cell_type": "markdown",
      "metadata": {
        "colab_type": "text",
        "id": "1HagyjYos5rD"
      },
      "source": [
        "In addition, a layer could return the final intenral state. The returned states can be used continue the RNN execution later, or to [initialize another RNN](https://arxiv.org/abs/1409.3215). This setting is commonly used in the encoder-decoder model, where the encoder final state is feed to decoder as initial state.\n",
        "\n",
        "To enable that, set the `return_state` parameter to `True` when creating the layer.\n",
        "\n",
        "To config the initial state of the layer, just call the layer with additional keyword argument \"initial_state\". Note that the shape of the state need to match with the unit size of the layer, which is way both LSTM layers are configured to have same size 64 in the example below."
      ]
    },
    {
      "cell_type": "code",
      "execution_count": 0,
      "metadata": {
        "colab": {},
        "colab_type": "code",
        "id": "2_HsGBrDvaea"
      },
      "outputs": [],
      "source": [
        "encoder_vocab = 1000\n",
        "decoder_vocab = 2000\n",
        "\n",
        "encoder_input = layers.Input(shape=(None, ))\n",
        "encoder_embedded = layers.Embedding(input_dim=encoder_vocab, output_dim=64)(encoder_input)\n",
        "\n",
        "output, state_h, state_c = layers.LSTM(\n",
        "    64, return_state=True, name='encoder')(encoder_embedded)\n",
        "encoder_state = [state_h, state_c]\n",
        "\n",
        "decoder_input = layers.Input(shape=(None, ))\n",
        "decoder_embedded = layers.Embedding(input_dim=decoder_vocab, output_dim=64)(decoder_input)\n",
        "\n",
        "decoder_output = layers.LSTM(\n",
        "    64, name='decoder')(decoder_embedded, initial_state=encoder_state)\n",
        "output = layers.Dense(10, activation='softmax')(decoder_output)\n",
        "\n",
        "model = tf.keras.Model([encoder_input, decoder_input], output)\n",
        "model.summary()"
      ]
    },
    {
      "cell_type": "markdown",
      "metadata": {
        "colab_type": "text",
        "id": "EvAaiMJbWR2A"
      },
      "source": [
        "To reuse the RNN state between batchs, you could make the RNN layer to be stateful by set `stateful=True` when construct the layer. It will make RNN layer to keep reusing the final states from the last batch and use it as the initial state for next batch. This allows RNN to explore the feature between batchs, rather than treat individual batch separately."
      ]
    },
    {
      "cell_type": "code",
      "execution_count": 0,
      "metadata": {
        "colab": {},
        "colab_type": "code",
        "id": "E6TsLXJ0X3Xd"
      },
      "outputs": [],
      "source": [
        "paragraph1 = np.random.random((20, 10, 50)).astype(np.float32)\n",
        "paragraph2 = np.random.random((20, 10, 50)).astype(np.float32)\n",
        "paragraph3 = np.random.random((20, 10, 50)).astype(np.float32)\n",
        "\n",
        "# This is same as feeding paragraph1, 2 and 3 that is concat together on axis 1,\n",
        "# which has shape [20, 30, 50]. It allows user to use samller amount of memory. \n",
        "lstm_layer = layers.LSTM(64, stateful=True)\n",
        "output = lstm_layer(paragraph1)\n",
        "output = lstm_layer(paragraph2)\n",
        "output = lstm_layer(paragraph3)\n",
        "\n",
        "# reset_state() will reset the cached state to original initial_state, in the\n",
        "# case that no initial_state is provided, zeros will be used as default.\n",
        "lstm_layer.reset_states()\n"
      ]
    },
    {
      "cell_type": "markdown",
      "metadata": {
        "colab_type": "text",
        "id": "7AtPur5BDzb4"
      },
      "source": [
        "##Bidirectional RNN"
      ]
    },
    {
      "cell_type": "markdown",
      "metadata": {
        "colab_type": "text",
        "id": "OsdEIXXREL_N"
      },
      "source": [
        "For sequential inputs, it is often that the model can perform better if it not only process the input from start to end, but also backwards. For example, to predict the next word in the sentence, it is often to have the context around the word, not only just the words in front of it.\n",
        "\n",
        "Keras provides an easy API for you to build bidirectional RNN, by `tf.keras.layers.Bidirectional` wrapper."
      ]
    },
    {
      "cell_type": "code",
      "execution_count": 0,
      "metadata": {
        "colab": {},
        "colab_type": "code",
        "id": "MNhYIAXqYl3B"
      },
      "outputs": [],
      "source": [
        "model = tf.keras.Sequential()\n",
        "\n",
        "model.add(layers.Bidirectional(layers.LSTM(64, return_sequences=True), \n",
        "                               input_shape=(5, 10)))\n",
        "model.add(layers.Bidirectional(layers.LSTM(32)))\n",
        "model.add(layers.Dense(10, activation='softmax'))\n",
        "\n",
        "model.summary()"
      ]
    },
    {
      "cell_type": "markdown",
      "metadata": {
        "colab_type": "text",
        "id": "ThwlodTjZCU0"
      },
      "source": [
        "Under the hood, `Bidirectional` will copy the RNN layer passed in, flip the `go_backwards` field of the newly copied layer, so that it will process the inputs in a reversed order.\n",
        "\n",
        "The output of the `Bidirectional` RNN will be, by default, add the forward layer output with backward layer output. If you want to have different behavior, eg concat the output, or not merge them at all, change the `merge_mode` parameter during `Bidirectional` wrapper initialization. For more details about `Bidirectional`, please check the API doc in https://www.tensorflow.org/versions/r2.0/api_docs/python/tf/keras/layers/Bidirectional."
      ]
    },
    {
      "cell_type": "markdown",
      "metadata": {
        "colab_type": "text",
        "id": "ANGN956w6FRs"
      },
      "source": [
        "## Performance upgrade and CuDNN kernel in 2.0"
      ]
    },
    {
      "cell_type": "markdown",
      "metadata": {
        "colab_type": "text",
        "id": "76xAs7epaX21"
      },
      "source": [
        "In Tensorflow 2.0, the built-in RNN layer has been updated to leverage CuDNN kernel by default when GPU is available. With this change, the existing `keras.layers.CuDNNLSTM/CuDNNGRU` layer can be deprecated, and you can build the model without worrying about the hardware constraint.\n",
        "\n",
        "Since the CuDNN kernel is built with certain assumptions, this means the layer will not be able to use the CuDNN kernel if you configure the build-in layer with some custom behavior. Eg:\n",
        "\n",
        "- Change the `activation` function from `tanh` to something else.\n",
        "- Change the `recurrent_activation` function from `sigmoid` to something else.\n",
        "- Use `recurrent_dropout` \u003e 0\n",
        "- Set `unroll` to True, which force LSTM/GRU to decompose the tf.while loop into a series operations.\n",
        "- Does not use bias.\n",
        "- When using masked input, the input data is not strictly right padded.\n",
        "\n",
        "For the detailed list of contrains, please see the docstring for [LSTM](https://www.tensorflow.org/versions/r2.0/api_docs/python/tf/keras/layers/LSTM) and [GRU](https://www.tensorflow.org/versions/r2.0/api_docs/python/tf/keras/layers/GRU) layer."
      ]
    },
    {
      "cell_type": "markdown",
      "metadata": {
        "colab_type": "text",
        "id": "ybd73JmvqLp4"
      },
      "source": [
        "### Use CuDNN kernel when available\n",
        "\n",
        "Let's build a simple RNN model to train and predict with MNIST dataset to demonstrate the performance difference. \n"
      ]
    },
    {
      "cell_type": "code",
      "execution_count": 0,
      "metadata": {
        "colab": {},
        "colab_type": "code",
        "id": "m9kM9hwRsxMx"
      },
      "outputs": [],
      "source": [
        "batch_size = 64\n",
        "# MNIST input is a (batch, 28, 28, 1) image.\n",
        "# timestep is the first 28 here, and the input_size is the second 28.\n",
        "timestep = 28\n",
        "input_size = 28\n",
        "\n",
        "units = 64\n",
        "output_size = 10  # label is from 0~9\n",
        "\n",
        "# Build the RNN model\n",
        "def build_model(allow_cudnn_kernel=True):\n",
        "  # CuDNN kernel is only available at layer level, and not on cell level.\n",
        "  # This means LSTM(units) will land on CuDNN kernel, while RNN(LSTMCell(units))\n",
        "  # will run on non-CuDNN kernel.\n",
        "  if allow_cudnn_kernel:\n",
        "    lstm_layer = tf.keras.layers.LSTM(units, input_shape=(timestep, input_size))\n",
        "  else:\n",
        "    lstm_layer = tf.keras.layers.RNN(\n",
        "        tf.keras.layers.LSTMCell(units),\n",
        "        input_shape=(timestep, input_size))\n",
        "  model = tf.keras.models.Sequential([\n",
        "      lstm_layer,\n",
        "      tf.keras.layers.BatchNormalization(),\n",
        "      tf.keras.layers.Dense(output_size, activation='softmax')]\n",
        "  )\n",
        "  return model\n"
      ]
    },
    {
      "cell_type": "markdown",
      "metadata": {
        "colab_type": "text",
        "id": "uuztNezFh0BL"
      },
      "source": [
        "### Load MNIST dataset"
      ]
    },
    {
      "cell_type": "code",
      "execution_count": 0,
      "metadata": {
        "colab": {},
        "colab_type": "code",
        "id": "m_kZTLDobchi"
      },
      "outputs": [],
      "source": [
        "mnist = tf.keras.datasets.mnist\n",
        "\n",
        "(x_train, y_train), (x_test, y_test) = mnist.load_data()\n",
        "x_train, x_test = x_train / 255.0, x_test / 255.0\n",
        "sample, sample_label = x_train[0], y_train[0]"
      ]
    },
    {
      "cell_type": "markdown",
      "metadata": {
        "colab_type": "text",
        "id": "UXF8elCuib8k"
      },
      "source": [
        "### Create model instance and compile it\n",
        "We choose `sparse_categorical_crossentropy` as the loss function for the model. The output of the model is a logit after `softmax` activation, which has the shape of `[batch, 10]`. The target for the model is a integer vector, each of the integer is in the range of 0 to 9. `sparse_categorical_crossentropy` will properly map the logits output to the integer (index)."
      ]
    },
    {
      "cell_type": "code",
      "execution_count": 0,
      "metadata": {
        "colab": {},
        "colab_type": "code",
        "id": "klgv6dfK0KNb"
      },
      "outputs": [],
      "source": [
        "model = build_model(allow_cudnn_kernel=True)\n",
        "\n",
        "model.compile(loss='sparse_categorical_crossentropy', \n",
        "              optimizer='sgd',\n",
        "              metrics=['accuracy'])\n"
      ]
    },
    {
      "cell_type": "code",
      "execution_count": 0,
      "metadata": {
        "colab": {},
        "colab_type": "code",
        "id": "qzeeo65r25CU"
      },
      "outputs": [],
      "source": [
        "model.fit(x_train, y_train, validation_data=(x_test, y_test), batch_size=batch_size, epochs=5)"
      ]
    },
    {
      "cell_type": "markdown",
      "metadata": {
        "colab_type": "text",
        "id": "kvCWAssZjsdW"
      },
      "source": [
        "### Build a new model without CuDNN kernel"
      ]
    },
    {
      "cell_type": "code",
      "execution_count": 0,
      "metadata": {
        "colab": {},
        "colab_type": "code",
        "id": "H2JfHDOhOFtx"
      },
      "outputs": [],
      "source": [
        "slow_model = build_model(allow_cudnn_kernel=False)\n",
        "slow_model.set_weights(model.get_weights())\n",
        "slow_model.compile(loss='sparse_categorical_crossentropy', \n",
        "                   optimizer='sgd', \n",
        "                   metrics=['accuracy'])\n",
        "slow_model.fit(x_train, y_train, \n",
        "               validation_data=(x_test, y_test), \n",
        "               batch_size=batch_size)"
      ]
    },
    {
      "cell_type": "markdown",
      "metadata": {
        "colab_type": "text",
        "id": "Zx8QLf81dTVr"
      },
      "source": [
        "As you can see at this point, the model built with CuDNN kernel is much fast to train, comparing to the model that use normal kernel. With the new implementation of LSTM/GRU layer, user could train their model without the hardware constrains in mind. The same model code can be deployed to any enviornment.\n",
        "\n",
        "The same model can also be use to run single step inference on CPU only environment. The tf.device annotation below is just forcing the device placement. The model will run on CPU by default if GPU is not avaiable."
      ]
    },
    {
      "cell_type": "code",
      "execution_count": 0,
      "metadata": {
        "colab": {},
        "colab_type": "code",
        "id": "z_z1eRh1fMBL"
      },
      "outputs": [],
      "source": [
        "\n",
        "with tf.device(\"CPU:0\"):\n",
        "  cpu_model = build_model(allow_cudnn_kernel=True)\n",
        "  cpu_model.set_weights(model.get_weights())\n",
        "  result = tf.argmax(cpu_model.predict_on_batch(tf.expand_dims(sample, 0)), axis=1)\n",
        "  print(\"Predicted result is: %s, target result is: %s\" % (result.numpy(), sample_label))\n",
        "  plt.imshow(sample, cmap=plt.get_cmap(\"gray\"))"
      ]
    },
    {
      "cell_type": "markdown",
      "metadata": {
        "colab_type": "text",
        "id": "kJDJSXjZ2VaY"
      },
      "source": [
        "## Layer and cell"
      ]
    },
    {
      "cell_type": "markdown",
      "metadata": {
        "colab_type": "text",
        "id": "hQRxLRSS2gDf"
      },
      "source": [
        "In addition to built-in RNN layers, the RNN API also provide cell level API for user to use. In contrast to RNN layer, which processes the whole input sequence, the RNN cell focuses on the input for a single timestep.\n",
        "\n",
        "There are three built-in RNN cells, each of them corresponds to the matching RNN layer.\n",
        "\n",
        "- `tf.keras.layers.SimpleRNNCell` matches to SimpleRNN layer.\n",
        "\n",
        "- `tf.keras.layers.GRUCell` matches to GRU layer.\n",
        "\n",
        "- `tf.keras.layers.LSTMCell` matches to LSTM layer.\n",
        "\n",
        "Mathametically `RNN(SimpleRNNCell(10))` should produce the same result as `SimpleRNN(10)`. In fact, the implementation of layer in TF v1.x is just creating the corresponding RNN cell and wrap it with RNN layer.  "
      ]
    },
    {
      "cell_type": "markdown",
      "metadata": {
        "colab_type": "text",
        "id": "2mCetBoTiqcB"
      },
      "source": [
        "## RNN with nested structure as input and output\n",
        "\n",
        "Nested structure allow user to encapsulate more information within one single timestep. For example, a video frame could have audio input at the same time. The data shape for this case can be:\n",
        "\n",
        "`[batch, timestep, {\"video\": [height, width, channel], \"audio\": [frequency]}]`\n",
        "\n",
        "In another example, handwriting data could have both x and y for the current frequency of the finger, as well as how hard user is pressing. So the data representation will be:\n",
        "\n",
        "`[batch, timestep, {\"location\": [x, y], \"press\": [force]}]`\n",
        "\n",
        "In any of these cases, it will be nice to have access the overall data for the \n",
        "single timestep, so that the relationship between different data can be explored.\n",
        "\n",
        "The following code gives an example for how to build a custom RNN cell that accept high dimentional input and process it.\n"
      ]
    },
    {
      "cell_type": "markdown",
      "metadata": {
        "colab_type": "text",
        "id": "A1IkIxWykSZQ"
      },
      "source": [
        "### Define a custom cell that support nested input/output"
      ]
    },
    {
      "cell_type": "code",
      "execution_count": 0,
      "metadata": {
        "colab": {},
        "colab_type": "code",
        "id": "6yOT8nSqzp4A"
      },
      "outputs": [],
      "source": [
        "NestedInput = collections.namedtuple('NestedInput', ['feature1', 'feature2'])\n",
        "NestedState = collections.namedtuple('NestedState', ['state1', 'state2'])\n",
        "\n",
        "class NestedCell(tf.keras.layers.Layer):\n",
        "\n",
        "  def __init__(self, unit_1, unit_2, unit_3, **kwargs):\n",
        "    self.unit_1 = unit_1\n",
        "    self.unit_2 = unit_2\n",
        "    self.unit_3 = unit_3\n",
        "    self.state_size = NestedState(state1=unit_1, \n",
        "                                  state2=tf.TensorShape([unit_2, unit_3]))\n",
        "    self.output_size = (unit_1, tf.TensorShape([unit_2, unit_3]))\n",
        "    super(NestedCell, self).__init__(**kwargs)\n",
        "\n",
        "  def build(self, inputs_shape):\n",
        "    # expect input_shape to contain 2 items, [(batch, i1), (batch, i2, i3)]\n",
        "    input_1 = inputs_shape.feature1[1]\n",
        "    input_2, input_3 = inputs_shape.feature2[1:]\n",
        "\n",
        "    self.kernel_1 = self.add_weight(\n",
        "        shape=(input_1, self.unit_1), initializer='uniform', name='kernel_1')\n",
        "    self.kernel_2_3 = self.add_weight(\n",
        "        shape=(input_2, input_3, self.unit_2, self.unit_3),\n",
        "        initializer='uniform',\n",
        "        name='kernel_2_3')\n",
        "\n",
        "  def call(self, inputs, states):\n",
        "    # inputs should be in [(batch, input_1), (batch, input_2, input_3)]\n",
        "    # state should be in shape [(batch, unit_1), (batch, unit_2, unit_3)]\n",
        "    input_1, input_2 = tf.nest.flatten(inputs)\n",
        "    s1, s2 = states\n",
        "\n",
        "    output_1 = tf.matmul(input_1, self.kernel_1)\n",
        "    output_2_3 = tf.einsum('bij,ijkl-\u003ebkl', input_2, self.kernel_2_3)\n",
        "    state_1 = s1 + output_1\n",
        "    state_2_3 = s2 + output_2_3\n",
        "\n",
        "    output = [output_1, output_2_3]\n",
        "    new_states = NestedState(state1=state_1, state2=state_2_3)\n",
        "\n",
        "    return output, new_states"
      ]
    },
    {
      "cell_type": "markdown",
      "metadata": {
        "colab_type": "text",
        "id": "BJHOrrybk6Zy"
      },
      "source": [
        "### Build a RNN model with nested input/output\n",
        "\n",
        "With RNN cell defined, let's build a Keras model that uses the RNN layer and newly defined cell."
      ]
    },
    {
      "cell_type": "code",
      "execution_count": 0,
      "metadata": {
        "colab": {},
        "colab_type": "code",
        "id": "itrDe0Y2qPjP"
      },
      "outputs": [],
      "source": [
        "unit_1 = 10\n",
        "unit_2 = 20\n",
        "unit_3 = 30\n",
        "\n",
        "input_1 = 32\n",
        "input_2 = 64\n",
        "input_3 = 32\n",
        "batch_size = 64\n",
        "num_batch = 100\n",
        "timestep = 50\n",
        "\n",
        "cell = NestedCell(unit_1, unit_2, unit_3)\n",
        "rnn = tf.keras.layers.RNN(cell)\n",
        "\n",
        "inp_1 = tf.keras.Input((None, input_1))\n",
        "inp_2 = tf.keras.Input((None, input_2, input_3))\n",
        "\n",
        "outputs = rnn(NestedInput(feature1=inp_1, feature2=inp_2))\n",
        "\n",
        "model = tf.keras.models.Model([inp_1, inp_2], outputs)\n",
        "\n",
        "model.compile(optimizer='adam', loss='mse', metrics=['accuracy'])"
      ]
    },
    {
      "cell_type": "markdown",
      "metadata": {
        "colab_type": "text",
        "id": "2MaihTM2mDcp"
      },
      "source": [
        "### Train the model with random generated data\n",
        "Since there isn't a good candidate dataset for this model, numpy random is used here to show case that the model can be trained properly. "
      ]
    },
    {
      "cell_type": "code",
      "execution_count": 0,
      "metadata": {
        "colab": {},
        "colab_type": "code",
        "id": "lN-imRqElz2S"
      },
      "outputs": [],
      "source": [
        "input_1_data = np.random.random((batch_size * num_batch, timestep, input_1))\n",
        "input_2_data = np.random.random((batch_size * num_batch, timestep, input_2, input_3))\n",
        "target_1_data = np.random.random((batch_size * num_batch, unit_1))\n",
        "target_2_data = np.random.random((batch_size * num_batch, unit_2, unit_3))\n",
        "input_data = [input_1_data, input_2_data]\n",
        "target_data = [target_1_data, target_2_data]\n",
        "\n",
        "model.fit(input_data, target_data, batch_size=batch_size)"
      ]
    },
    {
      "cell_type": "markdown",
      "metadata": {
        "colab_type": "text",
        "id": "oDdrwgBWnjYp"
      },
      "source": [
        "With the RNN layer API, You are only expected to define the math logic for individual step within the sequence, and Keras RNN layer will handle the sequence iteration for you. For more details, please visit the [API doc](https://www.tensorflow.org/versions/r2.0/api_docs/python/tf/keras/layers/RNN)."
      ]
    }
  ],
  "metadata": {
    "colab": {
      "collapsed_sections": [],
      "name": "Keras RNN in 2.0",
      "private_outputs": true,
      "provenance": [
        {
          "file_id": "1HPl2jtq6GNqfaJaFSt77kf4bpPr785Fr",
          "timestamp": 1560797934655
        }
      ],
      "toc_visible": true,
      "version": "0.3.2"
    },
    "kernelspec": {
      "display_name": "Python 3",
      "name": "python3"
    }
  },
  "nbformat": 4,
  "nbformat_minor": 0
}
